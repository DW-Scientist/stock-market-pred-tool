{
 "cells": [
  {
   "cell_type": "markdown",
   "id": "01ee8231",
   "metadata": {},
   "source": [
    "# What is this for?\n",
    "This notebook helps us to test our LSTM Models. That way we will create default setup of model parameters. But those will still be changeable within the streamlit application. So this is kind of a helper notebook."
   ]
  },
  {
   "cell_type": "code",
   "execution_count": 149,
   "id": "10186f04",
   "metadata": {},
   "outputs": [],
   "source": [
    "# Import Libraries\n",
    "import pandas as pd \n",
    "import numpy as np \n",
    "import plotly.graph_objects as go\n",
    "import yfinance as yf \n",
    "import datetime\n",
    "import keras\n",
    "import matplotlib.pyplot as plt\n",
    "from keras.models import Sequential\n",
    "from keras.layers import Dense\n",
    "from keras.layers import LSTM\n",
    "from keras.layers import Dropout\n",
    "from sklearn.preprocessing import MinMaxScaler\n",
    "from sklearn.metrics import mean_squared_error\n",
    "from sklearn.metrics import mean_absolute_error\n",
    "from sklearn.model_selection import train_test_split\n",
    "from keras.callbacks import EarlyStopping\n",
    "import sys\n",
    "\n"
   ]
  },
  {
   "cell_type": "code",
   "execution_count": 48,
   "id": "4f31c629",
   "metadata": {},
   "outputs": [
    {
     "data": {
      "text/html": [
       "<div>\n",
       "<style scoped>\n",
       "    .dataframe tbody tr th:only-of-type {\n",
       "        vertical-align: middle;\n",
       "    }\n",
       "\n",
       "    .dataframe tbody tr th {\n",
       "        vertical-align: top;\n",
       "    }\n",
       "\n",
       "    .dataframe thead th {\n",
       "        text-align: right;\n",
       "    }\n",
       "</style>\n",
       "<table border=\"1\" class=\"dataframe\">\n",
       "  <thead>\n",
       "    <tr style=\"text-align: right;\">\n",
       "      <th></th>\n",
       "      <th>Open</th>\n",
       "      <th>High</th>\n",
       "      <th>Low</th>\n",
       "      <th>Close</th>\n",
       "      <th>Adj Close</th>\n",
       "      <th>Volume</th>\n",
       "    </tr>\n",
       "    <tr>\n",
       "      <th>Date</th>\n",
       "      <th></th>\n",
       "      <th></th>\n",
       "      <th></th>\n",
       "      <th></th>\n",
       "      <th></th>\n",
       "      <th></th>\n",
       "    </tr>\n",
       "  </thead>\n",
       "  <tbody>\n",
       "    <tr>\n",
       "      <th>2019-12-02</th>\n",
       "      <td>107.959999</td>\n",
       "      <td>108.489998</td>\n",
       "      <td>104.650002</td>\n",
       "      <td>106.209999</td>\n",
       "      <td>106.209999</td>\n",
       "      <td>7182600</td>\n",
       "    </tr>\n",
       "    <tr>\n",
       "      <th>2019-12-03</th>\n",
       "      <td>105.000000</td>\n",
       "      <td>106.129997</td>\n",
       "      <td>104.510002</td>\n",
       "      <td>105.589996</td>\n",
       "      <td>105.589996</td>\n",
       "      <td>8947500</td>\n",
       "    </tr>\n",
       "    <tr>\n",
       "      <th>2019-12-04</th>\n",
       "      <td>106.290001</td>\n",
       "      <td>106.290001</td>\n",
       "      <td>104.654999</td>\n",
       "      <td>105.000000</td>\n",
       "      <td>105.000000</td>\n",
       "      <td>7848700</td>\n",
       "    </tr>\n",
       "    <tr>\n",
       "      <th>2019-12-05</th>\n",
       "      <td>105.449997</td>\n",
       "      <td>105.500000</td>\n",
       "      <td>104.110001</td>\n",
       "      <td>104.589996</td>\n",
       "      <td>104.589996</td>\n",
       "      <td>5635800</td>\n",
       "    </tr>\n",
       "    <tr>\n",
       "      <th>2019-12-06</th>\n",
       "      <td>104.790001</td>\n",
       "      <td>105.344002</td>\n",
       "      <td>104.160004</td>\n",
       "      <td>104.339996</td>\n",
       "      <td>104.339996</td>\n",
       "      <td>7018000</td>\n",
       "    </tr>\n",
       "  </tbody>\n",
       "</table>\n",
       "</div>"
      ],
      "text/plain": [
       "                  Open        High         Low       Close   Adj Close   Volume\n",
       "Date                                                                           \n",
       "2019-12-02  107.959999  108.489998  104.650002  106.209999  106.209999  7182600\n",
       "2019-12-03  105.000000  106.129997  104.510002  105.589996  105.589996  8947500\n",
       "2019-12-04  106.290001  106.290001  104.654999  105.000000  105.000000  7848700\n",
       "2019-12-05  105.449997  105.500000  104.110001  104.589996  104.589996  5635800\n",
       "2019-12-06  104.790001  105.344002  104.160004  104.339996  104.339996  7018000"
      ]
     },
     "execution_count": 48,
     "metadata": {},
     "output_type": "execute_result"
    }
   ],
   "source": [
    "# create test dataframe with Paypal stockset (PYPL)\n",
    "pypl = yf.download(\"PYPL\", start=\"2019-12-01\", end=\"2021-12-31\", progress=False)\n",
    "pypl.head()"
   ]
  },
  {
   "cell_type": "code",
   "execution_count": 51,
   "id": "ca5b6771",
   "metadata": {},
   "outputs": [
    {
     "name": "stdout",
     "output_type": "stream",
     "text": [
      "(355, 1) (152, 1)\n"
     ]
    }
   ],
   "source": [
    "# create training and test set out of the Close Column\n",
    "# We use 0.7 as trainsize and 0.3 as testsize\n",
    "trainsize = round(.7 * len(pypl))\n",
    "training_set = pypl.iloc[:trainsize, 3:4].values\n",
    "test_set = pypl.iloc[trainsize:, 3:4].values\n",
    "print(training_set.shape, test_set.shape)"
   ]
  },
  {
   "cell_type": "code",
   "execution_count": 116,
   "id": "ca56777a",
   "metadata": {},
   "outputs": [],
   "source": [
    "# Lets scale the data by using the MinMaxScaler\n",
    "sc = MinMaxScaler()\n",
    "training_set_scaled = sc.fit_transform(training_set)\n",
    "\n",
    "# Creating batches of arrays as traini \n",
    "X_train = []\n",
    "y_train = []\n",
    "for i in range(50, trainsize):\n",
    "    X_train.append(training_set_scaled[i-50:i, 0])\n",
    "    y_train.append(training_set_scaled[i, 0])\n",
    "X_train, y_train = np.array(X_train), np.array(y_train)\n",
    "X_train = np.reshape(X_train, (X_train.shape[0], X_train.shape[1], 1))"
   ]
  },
  {
   "cell_type": "code",
   "execution_count": 117,
   "id": "fd506ae7",
   "metadata": {},
   "outputs": [
    {
     "name": "stdout",
     "output_type": "stream",
     "text": [
      "Epoch 1/100\n",
      "10/10 [==============================] - 6s 52ms/step - loss: 0.0963\n",
      "Epoch 2/100\n",
      "10/10 [==============================] - 0s 47ms/step - loss: 0.0226\n",
      "Epoch 3/100\n",
      "10/10 [==============================] - 0s 49ms/step - loss: 0.0165\n",
      "Epoch 4/100\n",
      "10/10 [==============================] - 1s 58ms/step - loss: 0.0114\n",
      "Epoch 5/100\n",
      "10/10 [==============================] - 0s 50ms/step - loss: 0.0110\n",
      "Epoch 6/100\n",
      "10/10 [==============================] - 0s 49ms/step - loss: 0.0085\n",
      "Epoch 7/100\n",
      "10/10 [==============================] - 1s 51ms/step - loss: 0.0079\n",
      "Epoch 8/100\n",
      "10/10 [==============================] - 0s 48ms/step - loss: 0.0083\n",
      "Epoch 9/100\n",
      "10/10 [==============================] - 1s 53ms/step - loss: 0.0089\n",
      "Epoch 10/100\n",
      "10/10 [==============================] - 0s 50ms/step - loss: 0.0083\n",
      "Epoch 11/100\n",
      "10/10 [==============================] - 0s 49ms/step - loss: 0.0079\n",
      "Epoch 12/100\n",
      "10/10 [==============================] - 1s 62ms/step - loss: 0.0077\n",
      "Epoch 13/100\n",
      "10/10 [==============================] - 1s 57ms/step - loss: 0.0092\n",
      "Epoch 14/100\n",
      "10/10 [==============================] - 1s 51ms/step - loss: 0.0091\n",
      "Epoch 15/100\n",
      "10/10 [==============================] - 1s 48ms/step - loss: 0.0067\n",
      "Epoch 16/100\n",
      "10/10 [==============================] - 0s 47ms/step - loss: 0.0076\n",
      "Epoch 17/100\n",
      "10/10 [==============================] - 1s 55ms/step - loss: 0.0074\n",
      "Epoch 18/100\n",
      "10/10 [==============================] - 1s 73ms/step - loss: 0.0066\n",
      "Epoch 19/100\n",
      "10/10 [==============================] - 1s 73ms/step - loss: 0.0076\n",
      "Epoch 20/100\n",
      "10/10 [==============================] - 1s 77ms/step - loss: 0.0078\n",
      "Epoch 21/100\n",
      "10/10 [==============================] - 1s 76ms/step - loss: 0.0080\n",
      "Epoch 22/100\n",
      "10/10 [==============================] - 1s 54ms/step - loss: 0.0073\n",
      "Epoch 23/100\n",
      "10/10 [==============================] - 1s 55ms/step - loss: 0.0067\n",
      "Epoch 24/100\n",
      "10/10 [==============================] - 1s 58ms/step - loss: 0.0084\n",
      "Epoch 25/100\n",
      "10/10 [==============================] - 1s 55ms/step - loss: 0.0056\n",
      "Epoch 26/100\n",
      "10/10 [==============================] - 1s 53ms/step - loss: 0.0065\n",
      "Epoch 27/100\n",
      "10/10 [==============================] - 1s 52ms/step - loss: 0.0081\n",
      "Epoch 28/100\n",
      "10/10 [==============================] - 1s 53ms/step - loss: 0.0064\n",
      "Epoch 29/100\n",
      "10/10 [==============================] - 1s 61ms/step - loss: 0.0065\n",
      "Epoch 30/100\n",
      "10/10 [==============================] - 1s 53ms/step - loss: 0.0073\n",
      "Epoch 31/100\n",
      "10/10 [==============================] - 1s 52ms/step - loss: 0.0067\n",
      "Epoch 32/100\n",
      "10/10 [==============================] - 1s 53ms/step - loss: 0.0065\n",
      "Epoch 33/100\n",
      "10/10 [==============================] - 1s 56ms/step - loss: 0.0063\n",
      "Epoch 34/100\n",
      "10/10 [==============================] - 1s 53ms/step - loss: 0.0060\n",
      "Epoch 35/100\n",
      "10/10 [==============================] - 1s 55ms/step - loss: 0.0055\n",
      "Epoch 36/100\n",
      "10/10 [==============================] - 1s 53ms/step - loss: 0.0057\n",
      "Epoch 37/100\n",
      "10/10 [==============================] - 0s 49ms/step - loss: 0.0066\n",
      "Epoch 38/100\n",
      "10/10 [==============================] - 0s 49ms/step - loss: 0.0050\n",
      "Epoch 39/100\n",
      "10/10 [==============================] - 1s 52ms/step - loss: 0.0055\n",
      "Epoch 40/100\n",
      "10/10 [==============================] - 1s 59ms/step - loss: 0.0060\n",
      "Epoch 41/100\n",
      "10/10 [==============================] - 1s 59ms/step - loss: 0.0059\n",
      "Epoch 42/100\n",
      "10/10 [==============================] - 1s 51ms/step - loss: 0.0057\n",
      "Epoch 43/100\n",
      "10/10 [==============================] - 1s 50ms/step - loss: 0.0054\n",
      "Epoch 44/100\n",
      "10/10 [==============================] - 1s 61ms/step - loss: 0.0058\n",
      "Epoch 45/100\n",
      "10/10 [==============================] - 1s 51ms/step - loss: 0.0061\n",
      "Epoch 46/100\n",
      "10/10 [==============================] - 1s 60ms/step - loss: 0.0050\n",
      "Epoch 47/100\n",
      "10/10 [==============================] - 1s 51ms/step - loss: 0.0065\n",
      "Epoch 48/100\n",
      "10/10 [==============================] - 1s 52ms/step - loss: 0.0056\n",
      "Epoch 49/100\n",
      "10/10 [==============================] - 1s 52ms/step - loss: 0.0054\n",
      "Epoch 50/100\n",
      "10/10 [==============================] - 1s 52ms/step - loss: 0.0050\n",
      "Epoch 51/100\n",
      "10/10 [==============================] - 1s 51ms/step - loss: 0.0042\n",
      "Epoch 52/100\n",
      "10/10 [==============================] - 1s 51ms/step - loss: 0.0044\n",
      "Epoch 53/100\n",
      "10/10 [==============================] - 1s 51ms/step - loss: 0.0050\n",
      "Epoch 54/100\n",
      "10/10 [==============================] - 0s 50ms/step - loss: 0.0052\n",
      "Epoch 55/100\n",
      "10/10 [==============================] - 1s 50ms/step - loss: 0.0049\n",
      "Epoch 56/100\n",
      "10/10 [==============================] - 0s 50ms/step - loss: 0.0052\n",
      "Epoch 57/100\n",
      "10/10 [==============================] - 0s 49ms/step - loss: 0.0053\n",
      "Epoch 58/100\n",
      "10/10 [==============================] - 1s 51ms/step - loss: 0.0047\n",
      "Epoch 59/100\n",
      "10/10 [==============================] - 0s 49ms/step - loss: 0.0052\n",
      "Epoch 60/100\n",
      "10/10 [==============================] - 1s 50ms/step - loss: 0.0045\n",
      "Epoch 61/100\n",
      "10/10 [==============================] - 0s 49ms/step - loss: 0.0055\n",
      "Epoch 62/100\n",
      "10/10 [==============================] - 0s 49ms/step - loss: 0.0047\n",
      "Epoch 63/100\n",
      "10/10 [==============================] - 0s 49ms/step - loss: 0.0047\n",
      "Epoch 64/100\n",
      "10/10 [==============================] - 0s 49ms/step - loss: 0.0045\n",
      "Epoch 65/100\n",
      "10/10 [==============================] - 1s 52ms/step - loss: 0.0047\n",
      "Epoch 66/100\n",
      "10/10 [==============================] - 1s 84ms/step - loss: 0.0044\n",
      "Epoch 67/100\n",
      "10/10 [==============================] - 1s 57ms/step - loss: 0.0041\n",
      "Epoch 68/100\n",
      "10/10 [==============================] - 1s 52ms/step - loss: 0.0047\n",
      "Epoch 69/100\n",
      "10/10 [==============================] - 1s 56ms/step - loss: 0.0043\n",
      "Epoch 70/100\n",
      "10/10 [==============================] - 1s 55ms/step - loss: 0.0046\n",
      "Epoch 71/100\n",
      "10/10 [==============================] - 1s 56ms/step - loss: 0.0044\n",
      "Epoch 72/100\n",
      "10/10 [==============================] - 1s 54ms/step - loss: 0.0042\n",
      "Epoch 73/100\n",
      "10/10 [==============================] - 1s 54ms/step - loss: 0.0042\n",
      "Epoch 74/100\n",
      "10/10 [==============================] - 1s 58ms/step - loss: 0.0043\n",
      "Epoch 75/100\n",
      "10/10 [==============================] - 1s 75ms/step - loss: 0.0050\n",
      "Epoch 76/100\n",
      "10/10 [==============================] - 1s 55ms/step - loss: 0.0041\n",
      "Epoch 77/100\n",
      "10/10 [==============================] - 1s 62ms/step - loss: 0.0040\n",
      "Epoch 78/100\n",
      "10/10 [==============================] - 1s 66ms/step - loss: 0.0045\n",
      "Epoch 79/100\n",
      "10/10 [==============================] - 1s 55ms/step - loss: 0.0050\n",
      "Epoch 80/100\n",
      "10/10 [==============================] - 1s 54ms/step - loss: 0.0038\n",
      "Epoch 81/100\n",
      "10/10 [==============================] - 1s 63ms/step - loss: 0.0041\n",
      "Epoch 82/100\n",
      "10/10 [==============================] - 1s 54ms/step - loss: 0.0038\n",
      "Epoch 83/100\n",
      "10/10 [==============================] - 1s 55ms/step - loss: 0.0036\n",
      "Epoch 84/100\n",
      "10/10 [==============================] - 1s 52ms/step - loss: 0.0042\n",
      "Epoch 85/100\n",
      "10/10 [==============================] - 1s 53ms/step - loss: 0.0038\n",
      "Epoch 86/100\n",
      "10/10 [==============================] - 1s 53ms/step - loss: 0.0044\n",
      "Epoch 87/100\n",
      "10/10 [==============================] - 1s 52ms/step - loss: 0.0043\n",
      "Epoch 88/100\n",
      "10/10 [==============================] - 1s 54ms/step - loss: 0.0043\n",
      "Epoch 89/100\n",
      "10/10 [==============================] - 1s 54ms/step - loss: 0.0037\n",
      "Epoch 90/100\n",
      "10/10 [==============================] - 1s 74ms/step - loss: 0.0034\n",
      "Epoch 91/100\n",
      "10/10 [==============================] - 1s 75ms/step - loss: 0.0035\n",
      "Epoch 92/100\n",
      "10/10 [==============================] - 1s 80ms/step - loss: 0.0039\n",
      "Epoch 93/100\n",
      "10/10 [==============================] - 1s 81ms/step - loss: 0.0041\n",
      "Epoch 94/100\n",
      "10/10 [==============================] - 1s 66ms/step - loss: 0.0039\n",
      "Epoch 95/100\n",
      "10/10 [==============================] - 1s 58ms/step - loss: 0.0038\n",
      "Epoch 96/100\n",
      "10/10 [==============================] - 1s 56ms/step - loss: 0.0040\n",
      "Epoch 97/100\n",
      "10/10 [==============================] - 1s 56ms/step - loss: 0.0039\n",
      "Epoch 98/100\n",
      "10/10 [==============================] - 1s 54ms/step - loss: 0.0038\n",
      "Epoch 99/100\n",
      "10/10 [==============================] - 1s 58ms/step - loss: 0.0036\n",
      "Epoch 100/100\n",
      "10/10 [==============================] - 1s 52ms/step - loss: 0.0032\n"
     ]
    },
    {
     "data": {
      "text/plain": [
       "<keras.callbacks.History at 0x160eb2ac0>"
      ]
     },
     "execution_count": 117,
     "metadata": {},
     "output_type": "execute_result"
    }
   ],
   "source": [
    "model = Sequential()\n",
    "#Adding the first LSTM layer and some Dropout regularisation\n",
    "model.add(LSTM(units = 50, return_sequences = True, input_shape = (X_train.shape[1], 1)))\n",
    "model.add(Dropout(0.2))\n",
    "# Adding a second LSTM layer and some Dropout regularisation\n",
    "model.add(LSTM(units = 50, return_sequences = True))\n",
    "model.add(Dropout(0.2))\n",
    "# Adding a third LSTM layer and some Dropout regularisation\n",
    "model.add(LSTM(units = 50, return_sequences = True))\n",
    "model.add(Dropout(0.2))\n",
    "# Adding a fourth LSTM layer and some Dropout regularisation\n",
    "model.add(LSTM(units = 50))\n",
    "model.add(Dropout(0.2))\n",
    "# Adding the output layer\n",
    "model.add(Dense(units = 1))\n",
    "\n",
    "# Compiling the RNN\n",
    "model.compile(optimizer = 'adam', loss = 'mean_squared_error')\n",
    "\n",
    "# Fitting the RNN to the Training set\n",
    "model.fit(X_train, y_train, epochs = 100, batch_size = 32)"
   ]
  },
  {
   "cell_type": "code",
   "execution_count": 118,
   "id": "6706e2bb",
   "metadata": {},
   "outputs": [],
   "source": [
    "# Getting the predicted stock price of 2017\n",
    "dataset_train = pypl.iloc[:trainsize, 3:4]\n",
    "dataset_test = pypl.iloc[trainsize:, 3:4]\n",
    "dataset_total = pd.concat((dataset_train, dataset_test), axis = 0)\n",
    "inputs = dataset_total[len(dataset_total) - len(dataset_test) - 50:].values\n",
    "inputs = inputs.reshape(-1,1)\n",
    "inputs = sc.transform(inputs)\n",
    "X_test = []\n",
    "for i in range(50, len(inputs)):\n",
    "    X_test.append(inputs[i-50:i, 0])\n",
    "X_test = np.array(X_test)\n",
    "X_test = np.reshape(X_test, (X_test.shape[0], X_test.shape[1], 1))"
   ]
  },
  {
   "cell_type": "code",
   "execution_count": 119,
   "id": "2a416ad4",
   "metadata": {},
   "outputs": [],
   "source": [
    "predicted_stock_price = model.predict(X_test)\n",
    "predicted_stock_price = sc.inverse_transform(predicted_stock_price)"
   ]
  },
  {
   "cell_type": "code",
   "execution_count": 120,
   "id": "390727cd",
   "metadata": {},
   "outputs": [
    {
     "data": {
      "image/png": "[encoded data removed]",
      "text/plain": [
       "<Figure size 432x288 with 1 Axes>"
      ]
     },
     "metadata": {
      "needs_background": "light"
     },
     "output_type": "display_data"
    }
   ],
   "source": [
    "# Visualising the results\n",
    "plt.plot(dataset_test.values, color = \"red\", label = \"Real Paypal Stock Price\")\n",
    "plt.plot(predicted_stock_price, color = \"blue\", label = \"Predicted Paypal Stock Price\")\n",
    "plt.xticks(np.arange(0,len(predicted_stock_price),50))\n",
    "plt.title('Paypal Stock Price Prediction')\n",
    "plt.xlabel('Time')\n",
    "plt.ylabel('Paypal Stock Price')\n",
    "plt.legend()\n",
    "plt.show()"
   ]
  },
  {
   "cell_type": "code",
   "execution_count": 128,
   "id": "b6a368bc",
   "metadata": {},
   "outputs": [],
   "source": [
    "# evaluation \n",
    "mae = mean_absolute_error(dataset_test.values, predicted_stock_price)"
   ]
  },
  {
   "cell_type": "code",
   "execution_count": 129,
   "id": "6ccad11b",
   "metadata": {},
   "outputs": [
    {
     "data": {
      "text/plain": [
       "9.993547941509046"
      ]
     },
     "execution_count": 129,
     "metadata": {},
     "output_type": "execute_result"
    }
   ],
   "source": [
    "mae"
   ]
  },
  {
   "cell_type": "code",
   "execution_count": 130,
   "id": "1ef56f99",
   "metadata": {},
   "outputs": [
    {
     "name": "stdout",
     "output_type": "stream",
     "text": [
      "Close    261.493422\n",
      "dtype: float64\n"
     ]
    }
   ],
   "source": [
    "print(dataset_test.mean())"
   ]
  },
  {
   "cell_type": "code",
   "execution_count": 126,
   "id": "8a20b928",
   "metadata": {},
   "outputs": [],
   "source": [
    "prediction_frame = pd.DataFrame()\n",
    "prediction_frame[\"truth\"] = dataset_test\n",
    "prediction_frame[\"preds\"] = predicted_stock_price"
   ]
  },
  {
   "cell_type": "code",
   "execution_count": 162,
   "id": "e95f8f2d",
   "metadata": {},
   "outputs": [
    {
     "data": {
      "text/html": [
       "<div>\n",
       "<style scoped>\n",
       "    .dataframe tbody tr th:only-of-type {\n",
       "        vertical-align: middle;\n",
       "    }\n",
       "\n",
       "    .dataframe tbody tr th {\n",
       "        vertical-align: top;\n",
       "    }\n",
       "\n",
       "    .dataframe thead th {\n",
       "        text-align: right;\n",
       "    }\n",
       "</style>\n",
       "<table border=\"1\" class=\"dataframe\">\n",
       "  <thead>\n",
       "    <tr style=\"text-align: right;\">\n",
       "      <th></th>\n",
       "      <th>Close</th>\n",
       "    </tr>\n",
       "    <tr>\n",
       "      <th>Date</th>\n",
       "      <th></th>\n",
       "    </tr>\n",
       "  </thead>\n",
       "  <tbody>\n",
       "    <tr>\n",
       "      <th>2021-04-30</th>\n",
       "      <td>262.290009</td>\n",
       "    </tr>\n",
       "    <tr>\n",
       "      <th>2021-05-03</th>\n",
       "      <td>259.089996</td>\n",
       "    </tr>\n",
       "    <tr>\n",
       "      <th>2021-05-04</th>\n",
       "      <td>250.160004</td>\n",
       "    </tr>\n",
       "    <tr>\n",
       "      <th>2021-05-05</th>\n",
       "      <td>247.399994</td>\n",
       "    </tr>\n",
       "    <tr>\n",
       "      <th>2021-05-06</th>\n",
       "      <td>252.020004</td>\n",
       "    </tr>\n",
       "    <tr>\n",
       "      <th>...</th>\n",
       "      <td>...</td>\n",
       "    </tr>\n",
       "    <tr>\n",
       "      <th>2021-11-29</th>\n",
       "      <td>187.240005</td>\n",
       "    </tr>\n",
       "    <tr>\n",
       "      <th>2021-11-30</th>\n",
       "      <td>184.889999</td>\n",
       "    </tr>\n",
       "    <tr>\n",
       "      <th>2021-12-01</th>\n",
       "      <td>179.320007</td>\n",
       "    </tr>\n",
       "    <tr>\n",
       "      <th>2021-12-02</th>\n",
       "      <td>187.149994</td>\n",
       "    </tr>\n",
       "    <tr>\n",
       "      <th>2021-12-03</th>\n",
       "      <td>183.929993</td>\n",
       "    </tr>\n",
       "  </tbody>\n",
       "</table>\n",
       "<p>152 rows × 1 columns</p>\n",
       "</div>"
      ],
      "text/plain": [
       "                 Close\n",
       "Date                  \n",
       "2021-04-30  262.290009\n",
       "2021-05-03  259.089996\n",
       "2021-05-04  250.160004\n",
       "2021-05-05  247.399994\n",
       "2021-05-06  252.020004\n",
       "...                ...\n",
       "2021-11-29  187.240005\n",
       "2021-11-30  184.889999\n",
       "2021-12-01  179.320007\n",
       "2021-12-02  187.149994\n",
       "2021-12-03  183.929993\n",
       "\n",
       "[152 rows x 1 columns]"
      ]
     },
     "execution_count": 162,
     "metadata": {},
     "output_type": "execute_result"
    }
   ],
   "source": [
    "dataset_test"
   ]
  },
  {
   "cell_type": "code",
   "execution_count": 127,
   "id": "9090837d",
   "metadata": {},
   "outputs": [
    {
     "data": {
      "text/html": [
       "<div>\n",
       "<style scoped>\n",
       "    .dataframe tbody tr th:only-of-type {\n",
       "        vertical-align: middle;\n",
       "    }\n",
       "\n",
       "    .dataframe tbody tr th {\n",
       "        vertical-align: top;\n",
       "    }\n",
       "\n",
       "    .dataframe thead th {\n",
       "        text-align: right;\n",
       "    }\n",
       "</style>\n",
       "<table border=\"1\" class=\"dataframe\">\n",
       "  <thead>\n",
       "    <tr style=\"text-align: right;\">\n",
       "      <th></th>\n",
       "      <th>truth</th>\n",
       "      <th>preds</th>\n",
       "    </tr>\n",
       "    <tr>\n",
       "      <th>Date</th>\n",
       "      <th></th>\n",
       "      <th></th>\n",
       "    </tr>\n",
       "  </thead>\n",
       "  <tbody>\n",
       "    <tr>\n",
       "      <th>2021-04-30</th>\n",
       "      <td>262.290009</td>\n",
       "      <td>261.698578</td>\n",
       "    </tr>\n",
       "    <tr>\n",
       "      <th>2021-05-03</th>\n",
       "      <td>259.089996</td>\n",
       "      <td>262.136597</td>\n",
       "    </tr>\n",
       "    <tr>\n",
       "      <th>2021-05-04</th>\n",
       "      <td>250.160004</td>\n",
       "      <td>261.926880</td>\n",
       "    </tr>\n",
       "    <tr>\n",
       "      <th>2021-05-05</th>\n",
       "      <td>247.399994</td>\n",
       "      <td>260.696503</td>\n",
       "    </tr>\n",
       "    <tr>\n",
       "      <th>2021-05-06</th>\n",
       "      <td>252.020004</td>\n",
       "      <td>258.527161</td>\n",
       "    </tr>\n",
       "    <tr>\n",
       "      <th>...</th>\n",
       "      <td>...</td>\n",
       "      <td>...</td>\n",
       "    </tr>\n",
       "    <tr>\n",
       "      <th>2021-11-29</th>\n",
       "      <td>187.240005</td>\n",
       "      <td>207.403976</td>\n",
       "    </tr>\n",
       "    <tr>\n",
       "      <th>2021-11-30</th>\n",
       "      <td>184.889999</td>\n",
       "      <td>204.608307</td>\n",
       "    </tr>\n",
       "    <tr>\n",
       "      <th>2021-12-01</th>\n",
       "      <td>179.320007</td>\n",
       "      <td>202.152481</td>\n",
       "    </tr>\n",
       "    <tr>\n",
       "      <th>2021-12-02</th>\n",
       "      <td>187.149994</td>\n",
       "      <td>199.902863</td>\n",
       "    </tr>\n",
       "    <tr>\n",
       "      <th>2021-12-03</th>\n",
       "      <td>183.929993</td>\n",
       "      <td>198.065186</td>\n",
       "    </tr>\n",
       "  </tbody>\n",
       "</table>\n",
       "<p>152 rows × 2 columns</p>\n",
       "</div>"
      ],
      "text/plain": [
       "                 truth       preds\n",
       "Date                              \n",
       "2021-04-30  262.290009  261.698578\n",
       "2021-05-03  259.089996  262.136597\n",
       "2021-05-04  250.160004  261.926880\n",
       "2021-05-05  247.399994  260.696503\n",
       "2021-05-06  252.020004  258.527161\n",
       "...                ...         ...\n",
       "2021-11-29  187.240005  207.403976\n",
       "2021-11-30  184.889999  204.608307\n",
       "2021-12-01  179.320007  202.152481\n",
       "2021-12-02  187.149994  199.902863\n",
       "2021-12-03  183.929993  198.065186\n",
       "\n",
       "[152 rows x 2 columns]"
      ]
     },
     "execution_count": 127,
     "metadata": {},
     "output_type": "execute_result"
    }
   ],
   "source": [
    "prediction_frame"
   ]
  },
  {
   "cell_type": "code",
   "execution_count": 156,
   "id": "83651beb",
   "metadata": {},
   "outputs": [
    {
     "data": {
      "text/plain": [
       "<AxesSubplot:xlabel='Date'>"
      ]
     },
     "execution_count": 156,
     "metadata": {},
     "output_type": "execute_result"
    },
    {
     "data": {
      "image/png": "[encoded data removed]",
      "text/plain": [
       "<Figure size 432x288 with 1 Axes>"
      ]
     },
     "metadata": {
      "needs_background": "light"
     },
     "output_type": "display_data"
    }
   ],
   "source": [
    "prediction_frame.plot()"
   ]
  },
  {
   "cell_type": "code",
   "execution_count": 155,
   "id": "9b726e09",
   "metadata": {},
   "outputs": [
    {
     "data": {
      "image/png": "[encoded data removed]",
      "text/plain": [
       "<Figure size 432x288 with 1 Axes>"
      ]
     },
     "metadata": {
      "needs_background": "light"
     },
     "output_type": "display_data"
    }
   ],
   "source": [
    "plt.plot(prediction_frame.index,prediction_frame.truth, color = \"red\", label = \"Real Paypal\")\n",
    "plt.plot(prediction_frame.index,prediction_frame.preds, color = \"blue\", label = \"Predicted Paypal\")\n",
    "plt.xticks(np.arange(0,len(predicted_stock_price),50))\n",
    "plt.title('TESLA Stock Price Prediction')\n",
    "plt.xlabel('Time')\n",
    "plt.ylabel('TESLA Stock Price')\n",
    "plt.legend()\n",
    "plt.show()"
   ]
  },
  {
   "cell_type": "markdown",
   "id": "85c0cf06",
   "metadata": {},
   "source": [
    "# Looks not to bad \n",
    "Since the prediction above looks pretty good we will use the parameters as the default for our LSTM model class "
   ]
  },
  {
   "cell_type": "code",
   "execution_count": 136,
   "id": "4b1d7e0c",
   "metadata": {},
   "outputs": [
    {
     "name": "stdout",
     "output_type": "stream",
     "text": [
      "hello\n",
      "wow\n"
     ]
    }
   ],
   "source": [
    "df_cols = pypl.columns \n",
    "try:\n",
    "        df_cols[3] == \"Close\"\n",
    "        print(\"hello\")\n",
    "except Exception as e: \n",
    "        print(\"no\")\n",
    "print(\"wow\")\n"
   ]
  },
  {
   "cell_type": "code",
   "execution_count": 132,
   "id": "254116f4",
   "metadata": {},
   "outputs": [
    {
     "data": {
      "text/plain": [
       "Index(['Open', 'High', 'Low', 'Close', 'Adj Close', 'Volume'], dtype='object')"
      ]
     },
     "execution_count": 132,
     "metadata": {},
     "output_type": "execute_result"
    }
   ],
   "source": [
    "df_cols"
   ]
  },
  {
   "cell_type": "code",
   "execution_count": 141,
   "id": "4142baa9",
   "metadata": {},
   "outputs": [
    {
     "name": "stdout",
     "output_type": "stream",
     "text": [
      "wow\n"
     ]
    }
   ],
   "source": [
    "df_cols = pypl.columns \n",
    "try:\n",
    "    1 + 1 == 3\n",
    "except Exception as e: \n",
    "        print(e)\n",
    "print(\"wow\")"
   ]
  },
  {
   "cell_type": "code",
   "execution_count": 144,
   "id": "6e0617a8",
   "metadata": {},
   "outputs": [
    {
     "data": {
      "text/plain": [
       "False"
      ]
     },
     "execution_count": 144,
     "metadata": {},
     "output_type": "execute_result"
    }
   ],
   "source": [
    "try:\n",
    "    df_cols[2] == \"Close\""
   ]
  },
  {
   "cell_type": "code",
   "execution_count": 147,
   "id": "7c0c3995",
   "metadata": {},
   "outputs": [
    {
     "ename": "SyntaxError",
     "evalue": "invalid syntax (584814027.py, line 3)",
     "output_type": "error",
     "traceback": [
      "\u001b[0;36m  File \u001b[0;32m\"/var/folders/w6/3v68jtps1j56v4y_y6bx4z3c0000gn/T/ipykernel_76723/584814027.py\"\u001b[0;36m, line \u001b[0;32m3\u001b[0m\n\u001b[0;31m    else break\u001b[0m\n\u001b[0m         ^\u001b[0m\n\u001b[0;31mSyntaxError\u001b[0m\u001b[0;31m:\u001b[0m invalid syntax\n"
     ]
    }
   ],
   "source": [
    "\n",
    "if df_cols[2] == \"Close\":\n",
    "    print(\"hello\")\n",
    "else break"
   ]
  },
  {
   "cell_type": "code",
   "execution_count": 152,
   "id": "daa305d6",
   "metadata": {},
   "outputs": [
    {
     "ename": "SystemExit",
     "evalue": "aa! errors!",
     "output_type": "error",
     "traceback": [
      "An exception has occurred, use %tb to see the full traceback.\n",
      "\u001b[0;31mSystemExit\u001b[0m\u001b[0;31m:\u001b[0m aa! errors!\n"
     ]
    },
    {
     "name": "stderr",
     "output_type": "stream",
     "text": [
      "/Users/dennisweber/Desktop/projects/stock-market-pred-tool/venv/lib/python3.9/site-packages/IPython/core/interactiveshell.py:3465: UserWarning: To exit: use 'exit', 'quit', or Ctrl-D.\n",
      "  warn(\"To exit: use 'exit', 'quit', or Ctrl-D.\", stacklevel=1)\n"
     ]
    }
   ],
   "source": [
    "\n",
    "if df_cols[2] == \"Close\":\n",
    "    print(\"wow\")\n",
    "else:\n",
    "    sys.exit(\"aa! errors!\")\n",
    "    \n",
    "print(\"hello\")"
   ]
  },
  {
   "cell_type": "code",
   "execution_count": 170,
   "id": "22f16586",
   "metadata": {},
   "outputs": [
    {
     "data": {
      "text/plain": [
       "array([168.        , 172.5       , 170.86999512, 168.3500061 ,\n",
       "       174.22999573, 177.42999268, 177.21000671, 176.17999268,\n",
       "       177.27999878, 181.57000732, 183.22999573, 178.3999939 ,\n",
       "       171.50999451, 172.30000305, 172.05999756, 169.80999756,\n",
       "       173.91999817, 178.82000732, 175.58000183, 178.41999817,\n",
       "       173.86000061, 172.55999756, 177.97999573, 176.27000427,\n",
       "       184.6000061 , 192.50999451, 196.07000732, 197.07000732,\n",
       "       197.33000183, 202.91000366, 204.08999634, 198.63000488,\n",
       "       193.32000732, 189.02999878, 191.32000732, 193.07000732,\n",
       "       191.46000671, 196.28999329, 194.57000732, 192.44000244,\n",
       "       198.17999268, 196.78999329, 198.88000488, 201.66999817,\n",
       "       203.47999573, 204.33999634, 204.47999573, 204.13999939,\n",
       "       208.92999268, 210.82000732, 204.99000549, 191.83999634,\n",
       "       185.94999695, 194.6000061 , 190.08999634, 184.        ,\n",
       "       186.96000671, 186.02000427, 180.91000366, 175.78999329])"
      ]
     },
     "execution_count": 170,
     "metadata": {},
     "output_type": "execute_result"
    }
   ],
   "source": [
    "training_set[i-60:i, 0]"
   ]
  },
  {
   "cell_type": "code",
   "execution_count": 171,
   "id": "54d3964c",
   "metadata": {},
   "outputs": [
    {
     "data": {
      "text/plain": [
       "176.07000732421875"
      ]
     },
     "execution_count": 171,
     "metadata": {},
     "output_type": "execute_result"
    }
   ],
   "source": [
    "training_set[i, 0]"
   ]
  },
  {
   "cell_type": "code",
   "execution_count": 159,
   "id": "d49e688f",
   "metadata": {},
   "outputs": [
    {
     "data": {
      "text/plain": [
       "numpy.ndarray"
      ]
     },
     "execution_count": 159,
     "metadata": {},
     "output_type": "execute_result"
    }
   ],
   "source": [
    "type(X_train)"
   ]
  },
  {
   "cell_type": "code",
   "execution_count": 172,
   "id": "a34c7b8d",
   "metadata": {},
   "outputs": [
    {
     "data": {
      "text/html": [
       "<div>\n",
       "<style scoped>\n",
       "    .dataframe tbody tr th:only-of-type {\n",
       "        vertical-align: middle;\n",
       "    }\n",
       "\n",
       "    .dataframe tbody tr th {\n",
       "        vertical-align: top;\n",
       "    }\n",
       "\n",
       "    .dataframe thead th {\n",
       "        text-align: right;\n",
       "    }\n",
       "</style>\n",
       "<table border=\"1\" class=\"dataframe\">\n",
       "  <thead>\n",
       "    <tr style=\"text-align: right;\">\n",
       "      <th></th>\n",
       "      <th>truth</th>\n",
       "      <th>preds</th>\n",
       "    </tr>\n",
       "    <tr>\n",
       "      <th>Date</th>\n",
       "      <th></th>\n",
       "      <th></th>\n",
       "    </tr>\n",
       "  </thead>\n",
       "  <tbody>\n",
       "    <tr>\n",
       "      <th>2021-04-30</th>\n",
       "      <td>262.290009</td>\n",
       "      <td>261.698578</td>\n",
       "    </tr>\n",
       "    <tr>\n",
       "      <th>2021-05-03</th>\n",
       "      <td>259.089996</td>\n",
       "      <td>262.136597</td>\n",
       "    </tr>\n",
       "    <tr>\n",
       "      <th>2021-05-04</th>\n",
       "      <td>250.160004</td>\n",
       "      <td>261.926880</td>\n",
       "    </tr>\n",
       "    <tr>\n",
       "      <th>2021-05-05</th>\n",
       "      <td>247.399994</td>\n",
       "      <td>260.696503</td>\n",
       "    </tr>\n",
       "    <tr>\n",
       "      <th>2021-05-06</th>\n",
       "      <td>252.020004</td>\n",
       "      <td>258.527161</td>\n",
       "    </tr>\n",
       "    <tr>\n",
       "      <th>...</th>\n",
       "      <td>...</td>\n",
       "      <td>...</td>\n",
       "    </tr>\n",
       "    <tr>\n",
       "      <th>2021-11-29</th>\n",
       "      <td>187.240005</td>\n",
       "      <td>207.403976</td>\n",
       "    </tr>\n",
       "    <tr>\n",
       "      <th>2021-11-30</th>\n",
       "      <td>184.889999</td>\n",
       "      <td>204.608307</td>\n",
       "    </tr>\n",
       "    <tr>\n",
       "      <th>2021-12-01</th>\n",
       "      <td>179.320007</td>\n",
       "      <td>202.152481</td>\n",
       "    </tr>\n",
       "    <tr>\n",
       "      <th>2021-12-02</th>\n",
       "      <td>187.149994</td>\n",
       "      <td>199.902863</td>\n",
       "    </tr>\n",
       "    <tr>\n",
       "      <th>2021-12-03</th>\n",
       "      <td>183.929993</td>\n",
       "      <td>198.065186</td>\n",
       "    </tr>\n",
       "  </tbody>\n",
       "</table>\n",
       "<p>152 rows × 2 columns</p>\n",
       "</div>"
      ],
      "text/plain": [
       "                 truth       preds\n",
       "Date                              \n",
       "2021-04-30  262.290009  261.698578\n",
       "2021-05-03  259.089996  262.136597\n",
       "2021-05-04  250.160004  261.926880\n",
       "2021-05-05  247.399994  260.696503\n",
       "2021-05-06  252.020004  258.527161\n",
       "...                ...         ...\n",
       "2021-11-29  187.240005  207.403976\n",
       "2021-11-30  184.889999  204.608307\n",
       "2021-12-01  179.320007  202.152481\n",
       "2021-12-02  187.149994  199.902863\n",
       "2021-12-03  183.929993  198.065186\n",
       "\n",
       "[152 rows x 2 columns]"
      ]
     },
     "execution_count": 172,
     "metadata": {},
     "output_type": "execute_result"
    }
   ],
   "source": [
    "prediction_frame"
   ]
  },
  {
   "cell_type": "code",
   "execution_count": 174,
   "id": "8b7a48c8",
   "metadata": {},
   "outputs": [],
   "source": [
    "plot_df = prediction_frame.reset_index().melt(\"Date\", var_name=\"name\", value_name=\"Stock-Price\")"
   ]
  },
  {
   "cell_type": "code",
   "execution_count": 175,
   "id": "7bf5b2df",
   "metadata": {},
   "outputs": [
    {
     "data": {
      "text/html": [
       "<div>\n",
       "<style scoped>\n",
       "    .dataframe tbody tr th:only-of-type {\n",
       "        vertical-align: middle;\n",
       "    }\n",
       "\n",
       "    .dataframe tbody tr th {\n",
       "        vertical-align: top;\n",
       "    }\n",
       "\n",
       "    .dataframe thead th {\n",
       "        text-align: right;\n",
       "    }\n",
       "</style>\n",
       "<table border=\"1\" class=\"dataframe\">\n",
       "  <thead>\n",
       "    <tr style=\"text-align: right;\">\n",
       "      <th></th>\n",
       "      <th>Date</th>\n",
       "      <th>name</th>\n",
       "      <th>Stock-Price</th>\n",
       "    </tr>\n",
       "  </thead>\n",
       "  <tbody>\n",
       "    <tr>\n",
       "      <th>0</th>\n",
       "      <td>2021-04-30</td>\n",
       "      <td>truth</td>\n",
       "      <td>262.290009</td>\n",
       "    </tr>\n",
       "    <tr>\n",
       "      <th>1</th>\n",
       "      <td>2021-05-03</td>\n",
       "      <td>truth</td>\n",
       "      <td>259.089996</td>\n",
       "    </tr>\n",
       "    <tr>\n",
       "      <th>2</th>\n",
       "      <td>2021-05-04</td>\n",
       "      <td>truth</td>\n",
       "      <td>250.160004</td>\n",
       "    </tr>\n",
       "    <tr>\n",
       "      <th>3</th>\n",
       "      <td>2021-05-05</td>\n",
       "      <td>truth</td>\n",
       "      <td>247.399994</td>\n",
       "    </tr>\n",
       "    <tr>\n",
       "      <th>4</th>\n",
       "      <td>2021-05-06</td>\n",
       "      <td>truth</td>\n",
       "      <td>252.020004</td>\n",
       "    </tr>\n",
       "    <tr>\n",
       "      <th>...</th>\n",
       "      <td>...</td>\n",
       "      <td>...</td>\n",
       "      <td>...</td>\n",
       "    </tr>\n",
       "    <tr>\n",
       "      <th>299</th>\n",
       "      <td>2021-11-29</td>\n",
       "      <td>preds</td>\n",
       "      <td>207.403976</td>\n",
       "    </tr>\n",
       "    <tr>\n",
       "      <th>300</th>\n",
       "      <td>2021-11-30</td>\n",
       "      <td>preds</td>\n",
       "      <td>204.608307</td>\n",
       "    </tr>\n",
       "    <tr>\n",
       "      <th>301</th>\n",
       "      <td>2021-12-01</td>\n",
       "      <td>preds</td>\n",
       "      <td>202.152481</td>\n",
       "    </tr>\n",
       "    <tr>\n",
       "      <th>302</th>\n",
       "      <td>2021-12-02</td>\n",
       "      <td>preds</td>\n",
       "      <td>199.902863</td>\n",
       "    </tr>\n",
       "    <tr>\n",
       "      <th>303</th>\n",
       "      <td>2021-12-03</td>\n",
       "      <td>preds</td>\n",
       "      <td>198.065186</td>\n",
       "    </tr>\n",
       "  </tbody>\n",
       "</table>\n",
       "<p>304 rows × 3 columns</p>\n",
       "</div>"
      ],
      "text/plain": [
       "          Date   name  Stock-Price\n",
       "0   2021-04-30  truth   262.290009\n",
       "1   2021-05-03  truth   259.089996\n",
       "2   2021-05-04  truth   250.160004\n",
       "3   2021-05-05  truth   247.399994\n",
       "4   2021-05-06  truth   252.020004\n",
       "..         ...    ...          ...\n",
       "299 2021-11-29  preds   207.403976\n",
       "300 2021-11-30  preds   204.608307\n",
       "301 2021-12-01  preds   202.152481\n",
       "302 2021-12-02  preds   199.902863\n",
       "303 2021-12-03  preds   198.065186\n",
       "\n",
       "[304 rows x 3 columns]"
      ]
     },
     "execution_count": 175,
     "metadata": {},
     "output_type": "execute_result"
    }
   ],
   "source": [
    "plot_df"
   ]
  },
  {
   "cell_type": "code",
   "execution_count": null,
   "id": "04ca23f5",
   "metadata": {},
   "outputs": [],
   "source": []
  }
 ],
 "metadata": {
  "kernelspec": {
   "display_name": "Python 3 (ipykernel)",
   "language": "python",
   "name": "python3"
  },
  "language_info": {
   "codemirror_mode": {
    "name": "ipython",
    "version": 3
   },
   "file_extension": ".py",
   "mimetype": "text/x-python",
   "name": "python",
   "nbconvert_exporter": "python",
   "pygments_lexer": "ipython3",
   "version": "3.9.6"
  }
 },
 "nbformat": 4,
 "nbformat_minor": 5
}
