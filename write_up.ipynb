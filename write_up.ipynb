{
 "cells": [
  {
   "cell_type": "markdown",
   "metadata": {},
   "source": [
    "# Udacity Capstone Project Write Up\n",
    "This Notebook breaks down the whole methodology of the Capston Project. It contains the following points: \n",
    "<br><br>\n",
    "#### Project Definition\n",
    "* *Project Overview:* Gives a high level overview of the project and describes what it contains\n",
    "* *Goal Description:* Describes the goal which should be achieved with the project\n",
    "* *Metrics:* Describes Metrics which are used to evaluate the project models\n",
    "#### Analysis\n",
    "* *Data Exploration:* Describes the dataset which will be used for the app\n",
    "* *Data Visualization:* Describes which data visualization will be made in the app\n",
    "#### Prediction Methodology\n",
    "* *Data Preprocessing:* Describes the preprocessing of the data wich is necessary to use the chosen model\n",
    "* *Implementation:* Describes the chosen models and the necessary parameters \n",
    "* *Refinement:* Describes the possibility of the app to refine the model\n",
    "#### Results\n",
    "* *Model Evaluation:* Describes how the app allows you to evaluate the model \n",
    "* *App Functionalities:* Wraps up the created functionalities\n",
    "\n",
    "\n"
   ]
  },
  {
   "cell_type": "markdown",
   "metadata": {},
   "source": [
    "----------------------------------------------------------------------------------------------------------------"
   ]
  },
  {
   "cell_type": "markdown",
   "metadata": {},
   "source": [
    "# Project Definition\n",
    "\n",
    "## Project Overview\n",
    "The project is about creating a analytics and prediciton app for desired stock prices. The approach for this can be seperated in three main steps: \n",
    "* Getting stock Data from Yahoo Finance based on the users inputs \n",
    "* Creating a LSTM NeuralNetwork Class in python which contains multiple functions which can get executed via the app \n",
    "* Settin up a App Frontend with Streamlit to connect the Backend functionality into the users GUI\n",
    "\n",
    "## Goal Description\n",
    "The goal of this project is to prepare both stock analytics and stock predictions within one web app. In the end the user should be able to do the following things:\n",
    "* Analyzing the desired Stock data based on visuals of both the raw data and important Stock Market metrics\n",
    "* Testing the performance of an LSTM model for stock prediction based on both visuals and Regression Evaluation Metrics\n",
    "* Creating a prediction for the next future Closing price of the desired stock value\n",
    "\n",
    "## Metrics\n",
    "This project tackles a Regression Task. That's why I used both the Mean Absolute Error (MAE) for a general evalution of the result and the Mean Squared Error (MSE) for taking higher errors more into acount. "
   ]
  },
  {
   "cell_type": "markdown",
   "metadata": {},
   "source": [
    "----------------------------------------------------------------------------------------------------------------"
   ]
  },
  {
   "cell_type": "markdown",
   "metadata": {},
   "source": [
    "# Analysis\n",
    "\n",
    "## Data Exploration\n",
    "For getting the users desired stock data we used a library called yfinance. This allows us to easily query stock data from the Yahoo Finance platform. As you can see below the data comes by default with 6 different columns and a Date index. In our case we only care about the `Close` Column, which is our target and the `Date`index which will be needed for our visuals. The data is already in numeric format which enables us to directly go to the transformation part. "
   ]
  },
  {
   "cell_type": "code",
   "execution_count": 3,
   "metadata": {},
   "outputs": [
    {
     "data": {
      "text/html": [
       "<div>\n",
       "<style scoped>\n",
       "    .dataframe tbody tr th:only-of-type {\n",
       "        vertical-align: middle;\n",
       "    }\n",
       "\n",
       "    .dataframe tbody tr th {\n",
       "        vertical-align: top;\n",
       "    }\n",
       "\n",
       "    .dataframe thead th {\n",
       "        text-align: right;\n",
       "    }\n",
       "</style>\n",
       "<table border=\"1\" class=\"dataframe\">\n",
       "  <thead>\n",
       "    <tr style=\"text-align: right;\">\n",
       "      <th></th>\n",
       "      <th>Open</th>\n",
       "      <th>High</th>\n",
       "      <th>Low</th>\n",
       "      <th>Close</th>\n",
       "      <th>Adj Close</th>\n",
       "      <th>Volume</th>\n",
       "    </tr>\n",
       "    <tr>\n",
       "      <th>Date</th>\n",
       "      <th></th>\n",
       "      <th></th>\n",
       "      <th></th>\n",
       "      <th></th>\n",
       "      <th></th>\n",
       "      <th></th>\n",
       "    </tr>\n",
       "  </thead>\n",
       "  <tbody>\n",
       "    <tr>\n",
       "      <th>2020-12-31</th>\n",
       "      <td>134.080002</td>\n",
       "      <td>134.740005</td>\n",
       "      <td>131.720001</td>\n",
       "      <td>132.690002</td>\n",
       "      <td>131.877014</td>\n",
       "      <td>99116600</td>\n",
       "    </tr>\n",
       "    <tr>\n",
       "      <th>2021-01-04</th>\n",
       "      <td>133.520004</td>\n",
       "      <td>133.610001</td>\n",
       "      <td>126.760002</td>\n",
       "      <td>129.410004</td>\n",
       "      <td>128.617111</td>\n",
       "      <td>143301900</td>\n",
       "    </tr>\n",
       "    <tr>\n",
       "      <th>2021-01-05</th>\n",
       "      <td>128.889999</td>\n",
       "      <td>131.740005</td>\n",
       "      <td>128.429993</td>\n",
       "      <td>131.009995</td>\n",
       "      <td>130.207291</td>\n",
       "      <td>97664900</td>\n",
       "    </tr>\n",
       "    <tr>\n",
       "      <th>2021-01-06</th>\n",
       "      <td>127.720001</td>\n",
       "      <td>131.050003</td>\n",
       "      <td>126.379997</td>\n",
       "      <td>126.599998</td>\n",
       "      <td>125.824326</td>\n",
       "      <td>155088000</td>\n",
       "    </tr>\n",
       "    <tr>\n",
       "      <th>2021-01-07</th>\n",
       "      <td>128.360001</td>\n",
       "      <td>131.630005</td>\n",
       "      <td>127.860001</td>\n",
       "      <td>130.919998</td>\n",
       "      <td>130.117844</td>\n",
       "      <td>109578200</td>\n",
       "    </tr>\n",
       "  </tbody>\n",
       "</table>\n",
       "</div>"
      ],
      "text/plain": [
       "                  Open        High         Low       Close   Adj Close  \\\n",
       "Date                                                                     \n",
       "2020-12-31  134.080002  134.740005  131.720001  132.690002  131.877014   \n",
       "2021-01-04  133.520004  133.610001  126.760002  129.410004  128.617111   \n",
       "2021-01-05  128.889999  131.740005  128.429993  131.009995  130.207291   \n",
       "2021-01-06  127.720001  131.050003  126.379997  126.599998  125.824326   \n",
       "2021-01-07  128.360001  131.630005  127.860001  130.919998  130.117844   \n",
       "\n",
       "               Volume  \n",
       "Date                   \n",
       "2020-12-31   99116600  \n",
       "2021-01-04  143301900  \n",
       "2021-01-05   97664900  \n",
       "2021-01-06  155088000  \n",
       "2021-01-07  109578200  "
      ]
     },
     "execution_count": 3,
     "metadata": {},
     "output_type": "execute_result"
    }
   ],
   "source": [
    "import yfinance as yf\n",
    "stock = yf.download(\n",
    "        'AAPL', start='2021-01-01', end='2021-12-01', progress=False\n",
    "    )\n",
    "stock.head()"
   ]
  },
  {
   "cell_type": "markdown",
   "metadata": {},
   "source": [
    "## Data Visualization\n",
    "To give the user the possibility to explore the stock data I've implemented different visuals within the app. To give a really good analysis base I've implemented not only the raw data in the plot but also useful stock market metrics like Bollinger Bands, MACD (Moving Average Convergence-Divergence) and RSI (Relative Strength Index). Those can be read up in more detail in the ReadMe file of this project. \n",
    "Besides that I also visualized within the Prediction Part of the project. This is also explained in detail within the ReadMe of the project. It basically enables the user to validate the Test Predictions within a Visual. "
   ]
  },
  {
   "cell_type": "markdown",
   "metadata": {},
   "source": [
    "----------------------------------------------------------------------------------------------------------------"
   ]
  },
  {
   "cell_type": "markdown",
   "metadata": {},
   "source": [
    "# Prediction Methodology\n",
    "To organize the code and prepare an step by step pipeline I decided to create a class called `LstmPredictionModel` within the `model_creation/lstm_model.py` file. This contains all the necessary functions which will be excecuted on specific user actions within the `app.py` file. \n",
    "\n",
    "## Data Preprocessing\n",
    "Since we're training a LSTM (Long-Short-Term-Memory) Network we have to preprocess the data so it is in a way the model can understand it. First of all I normalized the data by using the MinMaxScaler ok sklearn. The scaled data was then used to create both X_train and y_train. For every y_train I use the users input for the backshifting to say how many days of data X_train should contain to predict y_train. After this I reshaped the data so we have multiple dimensions for training the model. The same process was made to create a X_test set to make my test predictions. \n",
    "\n",
    "## Implementation \n",
    "The model I use here is a STM (Long-Short-Term-Memory) Network. It is widely used for giving a try on stock predictions because is it can differ past important information from not so important information. \n",
    "To give both the user and myself the possibility to test different combinations of LSTM model parameters I've created the dynamic model parameters in the streamlit application. So the user can not only change the model epochs and the batchsize but also the backshifting size, which are the days the model takes into account to predict a specific value. You can read this up more specifcally in the ReadMe. Buy changing the parameters and hitting training button the user will be able to see how well the model performed in comparison to other parameters based on the TestVisuals and the chose evaluation metrics\n",
    "\n",
    "## Refinement\n",
    "Like it says in the Implementation section the user is able to tweek the models most important paramaters to see which of them perform the best. If the user is happy with the result she/he can click the button to produce real predictions to get a real future result. "
   ]
  },
  {
   "cell_type": "markdown",
   "metadata": {},
   "source": [
    "----------------------------------------------------------------------------------------------------------------"
   ]
  },
  {
   "cell_type": "markdown",
   "metadata": {},
   "source": [
    "# Results\n",
    "\n",
    "## Model Evaluation: \n",
    "Looking at the Plot of some test predictions below the LSTM model works quite well for stock predictions. Tweeking the number of epochs and also the backshifting can also have a big influence on the result. For instance training the model for the PayPal stock with a epoch size of 100 and a backshifting of 60 days leads to a MeanAbsolute Error of 7 and a MeanSquarredError of 70. If we backshift the data for 7 days instead the MAE is 5 and the MSE 46. That probably means that the model had to deal with more fluctuations with the higher day range which affects the result which is why for this specific stock it could be mor applicable to set the backshifting to a lower level. \n",
    "Prediction the stock market is really hard since we don't any other data features than the price itself. But LSTM models can fit the trend pretty well. Tweeking paramter helps to undertstand the affect of specific data points way better. \n",
    "Still - please do not consider the predicted price of an LSTM model as a financial advice!"
   ]
  },
  {
   "cell_type": "code",
   "execution_count": 5,
   "metadata": {},
   "outputs": [
    {
     "data": {
      "image/png": "[encoded data removed]",
      "text/plain": [
       "<IPython.core.display.Image object>"
      ]
     },
     "execution_count": 5,
     "metadata": {},
     "output_type": "execute_result"
    }
   ],
   "source": [
    "from IPython import display\n",
    "display.Image(\"helpers/output.png\")"
   ]
  },
  {
   "cell_type": "markdown",
   "metadata": {},
   "source": [
    "## App Funcionalities \n",
    "The outcome of this project is a webapp that allows the user to both analyze desired stock data with integrated stock market metrics and also to train a LSTM model that evaluates the models performance and even gives an estimation about the upcoming value. \n",
    "Of course I will try enhance this project even more like adding parameters or maybe changing the code itself to add new functionalities. But the purpose of this project was to showcase both the Sofware- and Data Science Skills I've gathered throughout the Udacity Data Science Nanodegree. \n",
    "\n",
    "### Thx again to the Udacity Team for this amazing course - I learned a lot from this!!"
   ]
  }
 ],
 "metadata": {
  "interpreter": {
   "hash": "0c087344ae42ba1ea70be82b5bab1b03e7d0c30a2911a79f63f8a52ad0ffe99d"
  },
  "kernelspec": {
   "display_name": "Python 3.9.6 64-bit ('venv': venv)",
   "language": "python",
   "name": "python3"
  },
  "language_info": {
   "codemirror_mode": {
    "name": "ipython",
    "version": 3
   },
   "file_extension": ".py",
   "mimetype": "text/x-python",
   "name": "python",
   "nbconvert_exporter": "python",
   "pygments_lexer": "ipython3",
   "version": "3.9.6"
  },
  "orig_nbformat": 4
 },
 "nbformat": 4,
 "nbformat_minor": 2
}
